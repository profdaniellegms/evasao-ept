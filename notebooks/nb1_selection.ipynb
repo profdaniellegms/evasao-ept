{
 "cells": [
  {
   "cell_type": "markdown",
   "metadata": {},
   "source": [
    "## Seleção dos dados (Data Selection)"
   ]
  },
  {
   "cell_type": "markdown",
   "metadata": {},
   "source": [
    "### Carregando itens necessários"
   ]
  },
  {
   "cell_type": "markdown",
   "metadata": {},
   "source": [
    "**Importando biblioteca Pandas**"
   ]
  },
  {
   "cell_type": "code",
   "execution_count": 1,
   "metadata": {},
   "outputs": [],
   "source": [
    "import pandas as pd"
   ]
  },
  {
   "cell_type": "markdown",
   "metadata": {},
   "source": [
    "**Importando arquivos de Matrículas**"
   ]
  },
  {
   "cell_type": "code",
   "execution_count": 2,
   "metadata": {},
   "outputs": [],
   "source": [
    "mat_2021 = pd.read_csv('../datasets/original/matriculas/mat_2021.csv', sep=';', on_bad_lines='skip')\n",
    "mat_2020 = pd.read_csv('../datasets/original/matriculas/mat_2020.csv', sep=';', on_bad_lines='skip')\n",
    "mat_2019 = pd.read_csv('../datasets/original/matriculas/mat_2019.csv', sep=';', on_bad_lines='skip')\n",
    "mat_2018 = pd.read_csv('../datasets/original/matriculas/mat_2018.csv', sep=';', on_bad_lines='skip', encoding='latin-1')"
   ]
  },
  {
   "cell_type": "markdown",
   "metadata": {},
   "source": [
    "**Importando arquivos de Eficiência Acadêmica**"
   ]
  },
  {
   "cell_type": "code",
   "execution_count": 3,
   "metadata": {},
   "outputs": [
    {
     "name": "stderr",
     "output_type": "stream",
     "text": [
      "C:\\Users\\danie\\AppData\\Local\\Temp\\ipykernel_17728\\297088659.py:1: DtypeWarning: Columns (19) have mixed types. Specify dtype option on import or set low_memory=False.\n",
      "  efa_2021 = pd.read_csv('../datasets/original/eficiencia/efa_2021.csv', sep=';', on_bad_lines='skip')\n"
     ]
    }
   ],
   "source": [
    "efa_2021 = pd.read_csv('../datasets/original/eficiencia/efa_2021.csv', sep=';', on_bad_lines='skip')\n",
    "efa_2020 = pd.read_csv('../datasets/original/eficiencia/efa_2020.csv', sep=';', on_bad_lines='skip')\n",
    "efa_2019 = pd.read_csv('../datasets/original/eficiencia/efa_2019.csv', sep=';', on_bad_lines='skip')\n",
    "efa_2018 = pd.read_csv('../datasets/original/eficiencia/efa_2018.csv', sep=';', on_bad_lines='skip', encoding='latin-1')"
   ]
  },
  {
   "cell_type": "code",
   "execution_count": 5,
   "metadata": {},
   "outputs": [
    {
     "data": {
      "text/html": [
       "<div>\n",
       "<style scoped>\n",
       "    .dataframe tbody tr th:only-of-type {\n",
       "        vertical-align: middle;\n",
       "    }\n",
       "\n",
       "    .dataframe tbody tr th {\n",
       "        vertical-align: top;\n",
       "    }\n",
       "\n",
       "    .dataframe thead th {\n",
       "        text-align: right;\n",
       "    }\n",
       "</style>\n",
       "<table border=\"1\" class=\"dataframe\">\n",
       "  <thead>\n",
       "    <tr style=\"text-align: right;\">\n",
       "      <th></th>\n",
       "      <th>Carga Horaria</th>\n",
       "      <th>Carga Horaria Mínima</th>\n",
       "      <th>Categoria da Situação</th>\n",
       "      <th>Co Inst</th>\n",
       "      <th>Cod Unidade</th>\n",
       "      <th>Cor / Raça</th>\n",
       "      <th>Código da Matricula</th>\n",
       "      <th>Código da Unidade de Ensino - SISTEC</th>\n",
       "      <th>Código do Ciclo Matricula</th>\n",
       "      <th>Código do Município com DV</th>\n",
       "      <th>...</th>\n",
       "      <th>Vagas Ofertadas</th>\n",
       "      <th>Vagas Regulares AC</th>\n",
       "      <th>Vagas Regulares l1</th>\n",
       "      <th>Vagas Regulares l10</th>\n",
       "      <th>Vagas Regulares l13</th>\n",
       "      <th>Vagas Regulares l14</th>\n",
       "      <th>Vagas Regulares l2</th>\n",
       "      <th>Vagas Regulares l5</th>\n",
       "      <th>Vagas Regulares l6</th>\n",
       "      <th>Vagas Regulares l9</th>\n",
       "    </tr>\n",
       "  </thead>\n",
       "  <tbody>\n",
       "    <tr>\n",
       "      <th>1523341</th>\n",
       "      <td>20</td>\n",
       "      <td>160.0</td>\n",
       "      <td>Concluintes</td>\n",
       "      <td>26420</td>\n",
       "      <td>358</td>\n",
       "      <td>Não declarada</td>\n",
       "      <td>96122031</td>\n",
       "      <td>14080.0</td>\n",
       "      <td>2715783</td>\n",
       "      <td>4313904</td>\n",
       "      <td>...</td>\n",
       "      <td>37.0</td>\n",
       "      <td>37.0</td>\n",
       "      <td>0.0</td>\n",
       "      <td>0.0</td>\n",
       "      <td>0.0</td>\n",
       "      <td>0.0</td>\n",
       "      <td>0.0</td>\n",
       "      <td>0.0</td>\n",
       "      <td>0.0</td>\n",
       "      <td>0.0</td>\n",
       "    </tr>\n",
       "    <tr>\n",
       "      <th>1523342</th>\n",
       "      <td>20</td>\n",
       "      <td>160.0</td>\n",
       "      <td>Concluintes</td>\n",
       "      <td>26420</td>\n",
       "      <td>358</td>\n",
       "      <td>Não declarada</td>\n",
       "      <td>96122037</td>\n",
       "      <td>14080.0</td>\n",
       "      <td>2715783</td>\n",
       "      <td>4313904</td>\n",
       "      <td>...</td>\n",
       "      <td>37.0</td>\n",
       "      <td>37.0</td>\n",
       "      <td>0.0</td>\n",
       "      <td>0.0</td>\n",
       "      <td>0.0</td>\n",
       "      <td>0.0</td>\n",
       "      <td>0.0</td>\n",
       "      <td>0.0</td>\n",
       "      <td>0.0</td>\n",
       "      <td>0.0</td>\n",
       "    </tr>\n",
       "    <tr>\n",
       "      <th>1523343</th>\n",
       "      <td>160</td>\n",
       "      <td>160.0</td>\n",
       "      <td>Evadidos</td>\n",
       "      <td>26436</td>\n",
       "      <td>369</td>\n",
       "      <td>Parda</td>\n",
       "      <td>95091099</td>\n",
       "      <td>2931.0</td>\n",
       "      <td>2707702</td>\n",
       "      <td>4314100</td>\n",
       "      <td>...</td>\n",
       "      <td>59.0</td>\n",
       "      <td>59.0</td>\n",
       "      <td>0.0</td>\n",
       "      <td>0.0</td>\n",
       "      <td>0.0</td>\n",
       "      <td>0.0</td>\n",
       "      <td>0.0</td>\n",
       "      <td>0.0</td>\n",
       "      <td>0.0</td>\n",
       "      <td>0.0</td>\n",
       "    </tr>\n",
       "    <tr>\n",
       "      <th>1523344</th>\n",
       "      <td>200</td>\n",
       "      <td>200.0</td>\n",
       "      <td>Evadidos</td>\n",
       "      <td>26436</td>\n",
       "      <td>137</td>\n",
       "      <td>Parda</td>\n",
       "      <td>95087323</td>\n",
       "      <td>13828.0</td>\n",
       "      <td>2707682</td>\n",
       "      <td>4303509</td>\n",
       "      <td>...</td>\n",
       "      <td>112.0</td>\n",
       "      <td>112.0</td>\n",
       "      <td>0.0</td>\n",
       "      <td>0.0</td>\n",
       "      <td>0.0</td>\n",
       "      <td>0.0</td>\n",
       "      <td>0.0</td>\n",
       "      <td>0.0</td>\n",
       "      <td>0.0</td>\n",
       "      <td>0.0</td>\n",
       "    </tr>\n",
       "    <tr>\n",
       "      <th>1523345</th>\n",
       "      <td>180</td>\n",
       "      <td>160.0</td>\n",
       "      <td>Evadidos</td>\n",
       "      <td>26436</td>\n",
       "      <td>6002</td>\n",
       "      <td>Preta</td>\n",
       "      <td>95103817</td>\n",
       "      <td>45430.0</td>\n",
       "      <td>2707731</td>\n",
       "      <td>4314407</td>\n",
       "      <td>...</td>\n",
       "      <td>1265.0</td>\n",
       "      <td>1265.0</td>\n",
       "      <td>0.0</td>\n",
       "      <td>0.0</td>\n",
       "      <td>0.0</td>\n",
       "      <td>0.0</td>\n",
       "      <td>0.0</td>\n",
       "      <td>0.0</td>\n",
       "      <td>0.0</td>\n",
       "      <td>0.0</td>\n",
       "    </tr>\n",
       "  </tbody>\n",
       "</table>\n",
       "<p>5 rows × 56 columns</p>\n",
       "</div>"
      ],
      "text/plain": [
       "         Carga Horaria  Carga Horaria Mínima Categoria da Situação  Co Inst  \\\n",
       "1523341             20                 160.0           Concluintes    26420   \n",
       "1523342             20                 160.0           Concluintes    26420   \n",
       "1523343            160                 160.0              Evadidos    26436   \n",
       "1523344            200                 200.0              Evadidos    26436   \n",
       "1523345            180                 160.0              Evadidos    26436   \n",
       "\n",
       "         Cod Unidade     Cor / Raça  Código da Matricula  \\\n",
       "1523341          358  Não declarada             96122031   \n",
       "1523342          358  Não declarada             96122037   \n",
       "1523343          369          Parda             95091099   \n",
       "1523344          137          Parda             95087323   \n",
       "1523345         6002          Preta             95103817   \n",
       "\n",
       "         Código da Unidade de Ensino - SISTEC  Código do Ciclo Matricula  \\\n",
       "1523341                               14080.0                    2715783   \n",
       "1523342                               14080.0                    2715783   \n",
       "1523343                                2931.0                    2707702   \n",
       "1523344                               13828.0                    2707682   \n",
       "1523345                               45430.0                    2707731   \n",
       "\n",
       "         Código do Município com DV  ... Vagas Ofertadas Vagas Regulares AC  \\\n",
       "1523341                     4313904  ...            37.0               37.0   \n",
       "1523342                     4313904  ...            37.0               37.0   \n",
       "1523343                     4314100  ...            59.0               59.0   \n",
       "1523344                     4303509  ...           112.0              112.0   \n",
       "1523345                     4314407  ...          1265.0             1265.0   \n",
       "\n",
       "        Vagas Regulares l1 Vagas Regulares l10 Vagas Regulares l13  \\\n",
       "1523341                0.0                 0.0                 0.0   \n",
       "1523342                0.0                 0.0                 0.0   \n",
       "1523343                0.0                 0.0                 0.0   \n",
       "1523344                0.0                 0.0                 0.0   \n",
       "1523345                0.0                 0.0                 0.0   \n",
       "\n",
       "        Vagas Regulares l14 Vagas Regulares l2  Vagas Regulares l5  \\\n",
       "1523341                 0.0                0.0                 0.0   \n",
       "1523342                 0.0                0.0                 0.0   \n",
       "1523343                 0.0                0.0                 0.0   \n",
       "1523344                 0.0                0.0                 0.0   \n",
       "1523345                 0.0                0.0                 0.0   \n",
       "\n",
       "        Vagas Regulares l6 Vagas Regulares l9  \n",
       "1523341                0.0                0.0  \n",
       "1523342                0.0                0.0  \n",
       "1523343                0.0                0.0  \n",
       "1523344                0.0                0.0  \n",
       "1523345                0.0                0.0  \n",
       "\n",
       "[5 rows x 56 columns]"
      ]
     },
     "execution_count": 5,
     "metadata": {},
     "output_type": "execute_result"
    }
   ],
   "source": [
    "mat_2021.tail()"
   ]
  },
  {
   "cell_type": "markdown",
   "metadata": {},
   "source": [
    "### Analisando os dados"
   ]
  },
  {
   "cell_type": "markdown",
   "metadata": {},
   "source": [
    "O dicionário de dados de ambos os conjuntos deixa claro que a chave primária de cada registro é o Código da Matrícula, de modo que cada registro corresponde a um estudante. Assim, o mesmo estudante referenciado em determinado ano nos dataframes Matrículas também será encontrado no dataframe Eficiência Acadêmica correspondente àquele ano.\n",
    "\n",
    "Nota-se pelo crescimento do total de registros nos dataframes que houve aumento do número de matrículas com o passar dos anos.\n",
    "\n",
    "Contudo, o conjunto de dados Matrículas apresenta mais registros que o conjunto de dados Eficiência Acadêmica, pois o primeiro traz os dados de alunos que ainda estão cursando, enquanto este último só mostra os dados de alunos que concluíram ou deixaram o curso."
   ]
  },
  {
   "cell_type": "markdown",
   "metadata": {},
   "source": [
    "**Criando arrays para armazenar os dataframes de cada dataset**"
   ]
  },
  {
   "cell_type": "code",
   "execution_count": 6,
   "metadata": {},
   "outputs": [],
   "source": [
    "mat_datasets = [mat_2021, mat_2020, mat_2019, mat_2018]\n",
    "efa_datasets = [efa_2021, efa_2020, efa_2019, efa_2018]"
   ]
  },
  {
   "cell_type": "markdown",
   "metadata": {},
   "source": [
    "**Exibindo total de linhas e colunas de Matrículas e Eficiência Acadêmica**"
   ]
  },
  {
   "cell_type": "code",
   "execution_count": 5,
   "metadata": {},
   "outputs": [
    {
     "name": "stdout",
     "output_type": "stream",
     "text": [
      "2021\n",
      "(1523346, 56)\n",
      "2020\n",
      "(1507476, 54)\n",
      "2019\n",
      "(1023303, 54)\n",
      "2018\n",
      "(964593, 35)\n"
     ]
    }
   ],
   "source": [
    "i = 2021\n",
    "for df in mat_datasets:\n",
    "    print(i)\n",
    "    print(df.shape)\n",
    "    i = i-1"
   ]
  },
  {
   "cell_type": "markdown",
   "metadata": {},
   "source": [
    "**Exibindo total de linhas e colunas de Eficiência Acadêmica**"
   ]
  },
  {
   "cell_type": "code",
   "execution_count": 6,
   "metadata": {},
   "outputs": [
    {
     "name": "stdout",
     "output_type": "stream",
     "text": [
      "2021\n",
      "(889855, 55)\n",
      "2020\n",
      "(383153, 54)\n",
      "2019\n",
      "(338848, 54)\n",
      "2018\n",
      "(374037, 29)\n"
     ]
    }
   ],
   "source": [
    "i = 2021\n",
    "for df in efa_datasets:\n",
    "    print(i)\n",
    "    print(df.shape)\n",
    "    i = i-1"
   ]
  },
  {
   "cell_type": "markdown",
   "metadata": {},
   "source": [
    "**Exibindo valores encontrados na coluna *Categoria da Situação* em Matrículas**"
   ]
  },
  {
   "cell_type": "code",
   "execution_count": 7,
   "metadata": {},
   "outputs": [
    {
     "data": {
      "text/plain": [
       "array(['Evadidos', 'Em curso', 'Concluintes'], dtype=object)"
      ]
     },
     "execution_count": 7,
     "metadata": {},
     "output_type": "execute_result"
    }
   ],
   "source": [
    "mat_datasets[0]['Categoria da Situação'].unique()"
   ]
  },
  {
   "cell_type": "markdown",
   "metadata": {},
   "source": [
    "**Exibindo valores encontrados na coluna *Categoria da Situação* em Eficiência Acadêmica**"
   ]
  },
  {
   "cell_type": "code",
   "execution_count": 8,
   "metadata": {},
   "outputs": [
    {
     "data": {
      "text/plain": [
       "array(['Evadidos', 'Concluintes', 'Em curso'], dtype=object)"
      ]
     },
     "execution_count": 8,
     "metadata": {},
     "output_type": "execute_result"
    }
   ],
   "source": [
    "efa_datasets[0]['Categoria da Situação'].unique()"
   ]
  },
  {
   "cell_type": "markdown",
   "metadata": {},
   "source": [
    "### Selecionando Linhas/Registros"
   ]
  },
  {
   "cell_type": "markdown",
   "metadata": {},
   "source": [
    "Como a área de estudo deste trabalho são os cursos do eixo tecnológico Informação e Comunicação, serão selecionados apenas os registros que contenham este dado."
   ]
  },
  {
   "cell_type": "markdown",
   "metadata": {},
   "source": [
    "#### Microdados Matrículas"
   ]
  },
  {
   "cell_type": "code",
   "execution_count": 9,
   "metadata": {},
   "outputs": [
    {
     "data": {
      "text/plain": [
       "array(['Informação e Comunicação', 'Gestão e Negócios',\n",
       "       'Desenvolvimento Educacional e Social', 'Ambiente e Saúde',\n",
       "       'Produção Cultural e Design', 'Infraestrutura',\n",
       "       'Recursos Naturais', 'Turismo, Hospitalidade e Lazer',\n",
       "       'Controle e Processos Industriais', 'Produção Industrial',\n",
       "       'Segurança', 'Produção Alimentícia', 'Propedêutico'], dtype=object)"
      ]
     },
     "execution_count": 9,
     "metadata": {},
     "output_type": "execute_result"
    }
   ],
   "source": [
    "mat_datasets[0]['Eixo Tecnológico'].unique()"
   ]
  },
  {
   "cell_type": "code",
   "execution_count": 10,
   "metadata": {},
   "outputs": [
    {
     "name": "stdout",
     "output_type": "stream",
     "text": [
      "2021\n",
      "(220869, 56)\n",
      "['Informação e Comunicação']\n",
      "2020\n",
      "(200391, 54)\n",
      "['Informação e Comunicação']\n",
      "2019\n",
      "(149777, 54)\n",
      "['Informação e Comunicação']\n",
      "2018\n",
      "(144201, 35)\n",
      "['Informação e Comunicação']\n"
     ]
    }
   ],
   "source": [
    "mat_filtered = []\n",
    "i = 2021\n",
    "\n",
    "for df in mat_datasets:\n",
    "    df = df[df['Eixo Tecnológico'] == 'Informação e Comunicação']\n",
    "    print(i)\n",
    "    print(df.shape)\n",
    "    print(df['Eixo Tecnológico'].unique())\n",
    "    mat_filtered.append(df)\n",
    "    i = i-1"
   ]
  },
  {
   "cell_type": "markdown",
   "metadata": {},
   "source": [
    "#### Microdados Eficiência Acadêmica"
   ]
  },
  {
   "cell_type": "code",
   "execution_count": 11,
   "metadata": {},
   "outputs": [
    {
     "data": {
      "text/plain": [
       "array(['Produção Alimentícia', 'Produção Industrial', 'Ambiente e Saúde',\n",
       "       'Gestão e Negócios', 'Infraestrutura',\n",
       "       'Turismo, Hospitalidade e Lazer', 'Informação e Comunicação',\n",
       "       'Recursos Naturais', 'Produção Cultural e Design',\n",
       "       'Controle e Processos Industriais', 'Propedêutico', 'Segurança',\n",
       "       'Desenvolvimento Educacional e Social'], dtype=object)"
      ]
     },
     "execution_count": 11,
     "metadata": {},
     "output_type": "execute_result"
    }
   ],
   "source": [
    "efa_datasets[0]['Eixo Tecnológico'].unique()"
   ]
  },
  {
   "cell_type": "code",
   "execution_count": 12,
   "metadata": {},
   "outputs": [
    {
     "name": "stdout",
     "output_type": "stream",
     "text": [
      "2021\n",
      "(99653, 55)\n",
      "['Informação e Comunicação']\n",
      "2020\n",
      "(53407, 54)\n",
      "['Informação e Comunicação']\n",
      "2019\n",
      "(51013, 54)\n",
      "['Informação e Comunicação']\n",
      "2018\n",
      "(55743, 29)\n",
      "['Informação e Comunicação']\n"
     ]
    }
   ],
   "source": [
    "efa_filtered = []\n",
    "i = 2021\n",
    "\n",
    "for df in efa_datasets:\n",
    "    df = df[df['Eixo Tecnológico'] == 'Informação e Comunicação']\n",
    "    print(i)\n",
    "    print(df.shape)\n",
    "    print(df['Eixo Tecnológico'].unique())\n",
    "    efa_filtered.append(df)\n",
    "    i = i-1"
   ]
  },
  {
   "cell_type": "markdown",
   "metadata": {},
   "source": [
    "### Selecionando colunas"
   ]
  },
  {
   "cell_type": "markdown",
   "metadata": {},
   "source": [
    "Os dados relevantes para estudo da evasão escolar compreendes os seguintes fatores:\n",
    "\n",
    "- Fatores Internos à Instituição de Ensino, com destaque aos fatores geográficos e da estrutura do curso\n",
    "- Fatores Externos à Instituição de Ensino, com destaque para fatores socioeconômicos\n",
    "\n",
    "Assim, foram selecionadas somente as variáveis presentes nos conjuntos de dados que correspondem a tais fatores."
   ]
  },
  {
   "cell_type": "code",
   "execution_count": 13,
   "metadata": {},
   "outputs": [],
   "source": [
    "old_columns_names = [\n",
    "    'Categoria da Situação', 'Categoria de Situação',\n",
    "    'Código da Matricula', 'Código da Matrícula', \n",
    "    'Instituição', 'Região', 'UF', 'Região ', 'UF ',\n",
    "    'Subeixo Tecnológico', 'Sub Eixo Tecnologico',\n",
    "    'Nome de Curso', 'Nome do Curso', \n",
    "    'Tipo de Curso',\n",
    "    'Tipo de Oferta', 'Tipo Oferta',\n",
    "    'Modalidade de Ensino', 'Modalidade de Ensino ',\n",
    "    'Turno',\n",
    "    'Carga Horaria', 'Carga Horária do Curso',\n",
    "    'Fator Esforço Curso', 'Fator Esforco Curso', 'Fator de Esforço de Curso',\n",
    "    'Sexo', 'Sexo  ',\n",
    "    'Cor / Raça', 'Cor/Raça',\n",
    "    'Faixa Etária',\n",
    "    'Renda Familiar', 'Renda Familiar '\n",
    "]\n",
    "\n",
    "new_columns_names = [\n",
    "    'situacao', 'situacao',\n",
    "    'codigo_matricula', 'codigo_matricula', \n",
    "    'instituicao', 'regiao', 'estado', 'regiao', 'estado',\n",
    "    'subeixo_tecnologico', 'subeixo_tecnologico',\n",
    "    'nome_curso', 'nome_curso',\n",
    "    'tipo_curso',\n",
    "    'tipo_oferta', 'tipo_oferta',\n",
    "    'modalidade', 'modalidade',\n",
    "    'turno',\n",
    "    'carga_horaria', 'carga_horaria',\n",
    "    'fator_esforco_curso', 'fator_esforco_curso', 'fator_esforco_curso',\n",
    "    'sexo', 'sexo',\n",
    "    'etnia', 'etnia',\n",
    "    'faixa_etaria',\n",
    "    'renda_familiar', 'renda_familiar'\n",
    "]"
   ]
  },
  {
   "cell_type": "markdown",
   "metadata": {},
   "source": [
    "#### Microdados Matrículas"
   ]
  },
  {
   "cell_type": "code",
   "execution_count": 14,
   "metadata": {},
   "outputs": [
    {
     "name": "stdout",
     "output_type": "stream",
     "text": [
      "2021\n",
      "['Carga Horaria', 'Carga Horaria Mínima', 'Categoria da Situação', 'Co Inst', 'Cod Unidade', 'Cor / Raça', 'Código da Matricula', 'Código da Unidade de Ensino - SISTEC', 'Código do Ciclo Matricula', 'Código do Município com DV', 'Data de Fim Previsto do Ciclo', 'Data de Inicio do Ciclo', 'Data de Ocorrencia da Matricula', 'Eixo Tecnológico', 'Faixa Etária', 'Fator Esforço Curso', 'Fonte de Financiamento', 'Idade', 'Instituição', 'Matrículas Atendida', 'Matrículas Equivalentes', 'Modalidade de Ensino', 'Município', 'Mês De Ocorrência da Situação', 'Nome de Curso', 'Número de registros', 'Região', 'Renda Familiar', 'Sexo', 'Situação de Matrícula', 'Subeixo Tecnológico', 'Tipo de Curso', 'Tipo de Oferta', 'Total de Inscritos', 'Turno', 'UF', 'Unidade de Ensino', 'Vagas Extraordinárias AC', 'Vagas Extraordinárias l1', 'Vagas Extraordinárias l10', 'Vagas Extraordinárias l13', 'Vagas Extraordinárias l14', 'Vagas Extraordinárias l2', 'Vagas Extraordinárias l5', 'Vagas Extraordinárias l6', 'Vagas Extraordinárias l9', 'Vagas Ofertadas', 'Vagas Regulares AC', 'Vagas Regulares l1', 'Vagas Regulares l10', 'Vagas Regulares l13', 'Vagas Regulares l14', 'Vagas Regulares l2', 'Vagas Regulares l5', 'Vagas Regulares l6', 'Vagas Regulares l9']\n",
      "2020\n",
      "['Carga Horaria', 'Carga Horaria Minima', 'Categoria de Situação', 'Cod Unidade', 'Cor/Raça', 'Código da Matrícula', 'Código da Unidade de Ensino - SISTEC', 'Código do Ciclo de Matrícula', 'Código do Município com DV', 'Data de Fim Previsto do Ciclo', 'Data de Inicio do Ciclo', 'Data de Ocorrência da Matrícula', 'Eixo Tecnológico', 'Faixa Etária', 'Fator Esforco Curso', 'Fonte de Financiamento', 'Idade', 'Instituição', 'Matrícula 2019', 'Modalidade de Ensino', 'Mês de Ocorrência da Situação', 'Nome de Curso', 'Número de registros', 'Região', 'Renda Familiar', 'Sexo', 'Situação de Matrícula', 'Subeixo Tecnológico', 'Tipo de Curso', 'Tipo de Oferta', 'Tipo de Unidade', 'Tipo Oferta', 'Turno', 'UF', 'Unidade de Ensino', 'Vagas Extraordinárias AC', 'Vagas Extraordinárias l1', 'Vagas Extraordinárias l10', 'Vagas Extraordinárias l13', 'Vagas Extraordinárias l14', 'Vagas Extraordinárias l2', 'Vagas Extraordinárias l5', 'Vagas Extraordinárias l6', 'Vagas Extraordinárias l9', 'Vagas Ofertadas', 'Vagas Regulares AC', 'Vagas Regulares l1', 'Vagas Regulares l10', 'Vagas Regulares l13', 'Vagas Regulares l14', 'Vagas Regulares l2', 'Vagas Regulares l5', 'Vagas Regulares l6', 'Vagas Regulares l9']\n",
      "2019\n",
      "['Teste', 'Carga Horaria', 'Carga Horaria Minima', 'Categoria da Situação', 'Código do Ciclo Matricula', 'Código da Matricula', 'Código da Unidade de Ensino - SISTEC', 'Cod Unidade', 'Cor / Raça', 'Data de Inicio do Ciclo', 'Data de Fim Previsto do Ciclo', 'Data de Ocorrencia da Matricula', 'Eixo Tecnológico', 'Faixa Etária', 'Fator Esforco Curso', 'Fonte de Financiamento', 'Idade', 'Total de Inscritos', 'Instituição', 'Mês De Ocorrência da Situação', 'Modalidade de Ensino', 'Código do Município com DV', 'Município ', 'Vagas Ofertadas', 'Nome de Curso', 'Número de registros', 'Região ', 'Renda Familiar', 'Sexo', 'Situação de Matrícula', 'Sub Eixo Tecnologico', 'Tipo Oferta', 'Tipo de Curso', 'Turno', 'UF ', 'Unidade de Ensino', 'Vagas Extraordinárias AC', 'Vagas Extraordinárias l10', 'Vagas Extraordinárias l13', 'Vagas Extraordinárias l14', 'Vagas Extraordinárias l1', 'Vagas Extraordinárias l2', 'Vagas Extraordinárias l5', 'Vagas Extraordinárias l6', 'Vagas Extraordinárias l9', 'Vagas Regulares AC', 'Vagas Regulares l10', 'Vagas Regulares l13', 'Vagas Regulares l14', 'Vagas Regulares l1', 'Vagas Regulares l2', 'Vagas Regulares l5', 'Vagas Regulares l6', 'Vagas Regulares l9']\n",
      "2018\n",
      "['Sexo  ', 'Renda Familiar ', 'Cor / Raça', 'Idade', 'Faixa Etária', 'Código da Matrícula', 'Data de Ocorrência da Matrícula', 'Situação da Matrícula ', 'Categoria de Situação', 'Mês de Ocorrência da Situação', 'Turno', 'Código do Ciclo Matrícula', 'Data de Início do Ciclo', 'Data de Fim Previsto do Ciclo', 'Vagas Ofertadas', 'Total de Inscritos', 'Fonte de Financiamento', 'Carga Horária do Curso', 'Carga Horária Mínima Regulamentada', 'Eixo Tecnológico', 'Subeixo Tecnológico', 'Modalidade de Ensino ', 'Tipo de Curso', 'Tipo de Oferta', 'Nome do Curso', 'Fator de Esforço de Curso', 'Código da Unidade de Ensino - SISTEC', 'Unidade de Ensino', 'Código do Município com DV', 'Município', 'Instituição', 'UF', 'Microrregião', 'Mesorregião', 'Região']\n"
     ]
    }
   ],
   "source": [
    "i = 2021\n",
    "\n",
    "for df in mat_filtered:\n",
    "    print(i)\n",
    "    print(list(df.columns))\n",
    "    i = i-1"
   ]
  },
  {
   "cell_type": "markdown",
   "metadata": {},
   "source": [
    "**Excluindo a coluna duplicada do tipo de oferta encontrada no dataframe de 2020**"
   ]
  },
  {
   "cell_type": "code",
   "execution_count": 15,
   "metadata": {},
   "outputs": [
    {
     "name": "stderr",
     "output_type": "stream",
     "text": [
      "C:\\Users\\Danielle (PROF)\\AppData\\Local\\Temp\\ipykernel_9440\\1537006312.py:1: SettingWithCopyWarning: \n",
      "A value is trying to be set on a copy of a slice from a DataFrame\n",
      "\n",
      "See the caveats in the documentation: https://pandas.pydata.org/pandas-docs/stable/user_guide/indexing.html#returning-a-view-versus-a-copy\n",
      "  mat_filtered[1].drop('Tipo Oferta', axis=1, inplace=True)\n"
     ]
    }
   ],
   "source": [
    "mat_filtered[1].drop('Tipo Oferta', axis=1, inplace=True)"
   ]
  },
  {
   "cell_type": "code",
   "execution_count": 16,
   "metadata": {},
   "outputs": [
    {
     "name": "stderr",
     "output_type": "stream",
     "text": [
      "C:\\Users\\Danielle (PROF)\\AppData\\Local\\Temp\\ipykernel_9440\\3864887586.py:3: SettingWithCopyWarning: \n",
      "A value is trying to be set on a copy of a slice from a DataFrame\n",
      "\n",
      "See the caveats in the documentation: https://pandas.pydata.org/pandas-docs/stable/user_guide/indexing.html#returning-a-view-versus-a-copy\n",
      "  df.rename(columns={old_columns_names[i]: new_columns_names[i]}, inplace=True)\n"
     ]
    }
   ],
   "source": [
    "for df in mat_filtered:\n",
    "    for i in range(len(old_columns_names)):\n",
    "        df.rename(columns={old_columns_names[i]: new_columns_names[i]}, inplace=True)    "
   ]
  },
  {
   "cell_type": "code",
   "execution_count": 17,
   "metadata": {},
   "outputs": [
    {
     "name": "stdout",
     "output_type": "stream",
     "text": [
      "2021\n",
      "['carga_horaria', 'Carga Horaria Mínima', 'situacao', 'Co Inst', 'Cod Unidade', 'etnia', 'codigo_matricula', 'Código da Unidade de Ensino - SISTEC', 'Código do Ciclo Matricula', 'Código do Município com DV', 'Data de Fim Previsto do Ciclo', 'Data de Inicio do Ciclo', 'Data de Ocorrencia da Matricula', 'Eixo Tecnológico', 'faixa_etaria', 'fator_esforco_curso', 'Fonte de Financiamento', 'Idade', 'instituicao', 'Matrículas Atendida', 'Matrículas Equivalentes', 'modalidade', 'Município', 'Mês De Ocorrência da Situação', 'nome_curso', 'Número de registros', 'regiao', 'renda_familiar', 'sexo', 'Situação de Matrícula', 'subeixo_tecnologico', 'tipo_curso', 'tipo_oferta', 'Total de Inscritos', 'turno', 'estado', 'Unidade de Ensino', 'Vagas Extraordinárias AC', 'Vagas Extraordinárias l1', 'Vagas Extraordinárias l10', 'Vagas Extraordinárias l13', 'Vagas Extraordinárias l14', 'Vagas Extraordinárias l2', 'Vagas Extraordinárias l5', 'Vagas Extraordinárias l6', 'Vagas Extraordinárias l9', 'Vagas Ofertadas', 'Vagas Regulares AC', 'Vagas Regulares l1', 'Vagas Regulares l10', 'Vagas Regulares l13', 'Vagas Regulares l14', 'Vagas Regulares l2', 'Vagas Regulares l5', 'Vagas Regulares l6', 'Vagas Regulares l9']\n",
      "2020\n",
      "['carga_horaria', 'Carga Horaria Minima', 'situacao', 'Cod Unidade', 'etnia', 'codigo_matricula', 'Código da Unidade de Ensino - SISTEC', 'Código do Ciclo de Matrícula', 'Código do Município com DV', 'Data de Fim Previsto do Ciclo', 'Data de Inicio do Ciclo', 'Data de Ocorrência da Matrícula', 'Eixo Tecnológico', 'faixa_etaria', 'fator_esforco_curso', 'Fonte de Financiamento', 'Idade', 'instituicao', 'Matrícula 2019', 'modalidade', 'Mês de Ocorrência da Situação', 'nome_curso', 'Número de registros', 'regiao', 'renda_familiar', 'sexo', 'Situação de Matrícula', 'subeixo_tecnologico', 'tipo_curso', 'tipo_oferta', 'Tipo de Unidade', 'turno', 'estado', 'Unidade de Ensino', 'Vagas Extraordinárias AC', 'Vagas Extraordinárias l1', 'Vagas Extraordinárias l10', 'Vagas Extraordinárias l13', 'Vagas Extraordinárias l14', 'Vagas Extraordinárias l2', 'Vagas Extraordinárias l5', 'Vagas Extraordinárias l6', 'Vagas Extraordinárias l9', 'Vagas Ofertadas', 'Vagas Regulares AC', 'Vagas Regulares l1', 'Vagas Regulares l10', 'Vagas Regulares l13', 'Vagas Regulares l14', 'Vagas Regulares l2', 'Vagas Regulares l5', 'Vagas Regulares l6', 'Vagas Regulares l9']\n",
      "2019\n",
      "['Teste', 'carga_horaria', 'Carga Horaria Minima', 'situacao', 'Código do Ciclo Matricula', 'codigo_matricula', 'Código da Unidade de Ensino - SISTEC', 'Cod Unidade', 'etnia', 'Data de Inicio do Ciclo', 'Data de Fim Previsto do Ciclo', 'Data de Ocorrencia da Matricula', 'Eixo Tecnológico', 'faixa_etaria', 'fator_esforco_curso', 'Fonte de Financiamento', 'Idade', 'Total de Inscritos', 'instituicao', 'Mês De Ocorrência da Situação', 'modalidade', 'Código do Município com DV', 'Município ', 'Vagas Ofertadas', 'nome_curso', 'Número de registros', 'regiao', 'renda_familiar', 'sexo', 'Situação de Matrícula', 'subeixo_tecnologico', 'tipo_oferta', 'tipo_curso', 'turno', 'estado', 'Unidade de Ensino', 'Vagas Extraordinárias AC', 'Vagas Extraordinárias l10', 'Vagas Extraordinárias l13', 'Vagas Extraordinárias l14', 'Vagas Extraordinárias l1', 'Vagas Extraordinárias l2', 'Vagas Extraordinárias l5', 'Vagas Extraordinárias l6', 'Vagas Extraordinárias l9', 'Vagas Regulares AC', 'Vagas Regulares l10', 'Vagas Regulares l13', 'Vagas Regulares l14', 'Vagas Regulares l1', 'Vagas Regulares l2', 'Vagas Regulares l5', 'Vagas Regulares l6', 'Vagas Regulares l9']\n",
      "2018\n",
      "['sexo', 'renda_familiar', 'etnia', 'Idade', 'faixa_etaria', 'codigo_matricula', 'Data de Ocorrência da Matrícula', 'Situação da Matrícula ', 'situacao', 'Mês de Ocorrência da Situação', 'turno', 'Código do Ciclo Matrícula', 'Data de Início do Ciclo', 'Data de Fim Previsto do Ciclo', 'Vagas Ofertadas', 'Total de Inscritos', 'Fonte de Financiamento', 'carga_horaria', 'Carga Horária Mínima Regulamentada', 'Eixo Tecnológico', 'subeixo_tecnologico', 'modalidade', 'tipo_curso', 'tipo_oferta', 'nome_curso', 'fator_esforco_curso', 'Código da Unidade de Ensino - SISTEC', 'Unidade de Ensino', 'Código do Município com DV', 'Município', 'instituicao', 'estado', 'Microrregião', 'Mesorregião', 'regiao']\n"
     ]
    }
   ],
   "source": [
    "i = 2021\n",
    "\n",
    "for df in mat_filtered:\n",
    "    print(i)\n",
    "    print(list(df.columns))\n",
    "    i = i-1"
   ]
  },
  {
   "cell_type": "markdown",
   "metadata": {},
   "source": [
    "**Criando novos dataframes apenas com os campos desejados**"
   ]
  },
  {
   "cell_type": "code",
   "execution_count": 18,
   "metadata": {},
   "outputs": [
    {
     "name": "stdout",
     "output_type": "stream",
     "text": [
      "2021\n",
      "(220869, 17)\n",
      "2020\n",
      "(200391, 17)\n",
      "2019\n",
      "(149777, 17)\n",
      "2018\n",
      "(144201, 17)\n"
     ]
    }
   ],
   "source": [
    "mat_selected = []\n",
    "\n",
    "i = 2021\n",
    "\n",
    "for df in mat_filtered:\n",
    "    df = df[[\n",
    "        # Identificador Único do Registro\n",
    "        'codigo_matricula',\n",
    "        # Dados geográficos\n",
    "        'instituicao', 'regiao', 'estado',\n",
    "        # Fatores internos\n",
    "        'subeixo_tecnologico','nome_curso', 'tipo_curso', 'tipo_oferta', \n",
    "        'modalidade', 'turno', 'carga_horaria', 'fator_esforco_curso',\n",
    "        # Fatores externos\n",
    "        'sexo', 'etnia', 'faixa_etaria', 'renda_familiar',\n",
    "        # Coluna Alvo\n",
    "        'situacao'\n",
    "    ]]\n",
    "    print(i)\n",
    "    print(df.shape)\n",
    "    mat_selected.append(df)\n",
    "    i = i-1"
   ]
  },
  {
   "cell_type": "code",
   "execution_count": 19,
   "metadata": {},
   "outputs": [
    {
     "name": "stdout",
     "output_type": "stream",
     "text": [
      "2021\n",
      "['codigo_matricula', 'instituicao', 'regiao', 'estado', 'subeixo_tecnologico', 'nome_curso', 'tipo_curso', 'tipo_oferta', 'modalidade', 'turno', 'carga_horaria', 'fator_esforco_curso', 'sexo', 'etnia', 'faixa_etaria', 'renda_familiar', 'situacao']\n",
      "2020\n",
      "['codigo_matricula', 'instituicao', 'regiao', 'estado', 'subeixo_tecnologico', 'nome_curso', 'tipo_curso', 'tipo_oferta', 'modalidade', 'turno', 'carga_horaria', 'fator_esforco_curso', 'sexo', 'etnia', 'faixa_etaria', 'renda_familiar', 'situacao']\n",
      "2019\n",
      "['codigo_matricula', 'instituicao', 'regiao', 'estado', 'subeixo_tecnologico', 'nome_curso', 'tipo_curso', 'tipo_oferta', 'modalidade', 'turno', 'carga_horaria', 'fator_esforco_curso', 'sexo', 'etnia', 'faixa_etaria', 'renda_familiar', 'situacao']\n",
      "2018\n",
      "['codigo_matricula', 'instituicao', 'regiao', 'estado', 'subeixo_tecnologico', 'nome_curso', 'tipo_curso', 'tipo_oferta', 'modalidade', 'turno', 'carga_horaria', 'fator_esforco_curso', 'sexo', 'etnia', 'faixa_etaria', 'renda_familiar', 'situacao']\n"
     ]
    }
   ],
   "source": [
    "i = 2021\n",
    "\n",
    "for df in mat_selected:\n",
    "    print(i)\n",
    "    print(list(df.columns))\n",
    "    i = i-1"
   ]
  },
  {
   "cell_type": "markdown",
   "metadata": {},
   "source": [
    "**Salvando datafremes selecionados**"
   ]
  },
  {
   "cell_type": "code",
   "execution_count": 20,
   "metadata": {},
   "outputs": [],
   "source": [
    "mat_selected[0].to_csv(\"../datasets/selected/matriculas/mat_2021.csv\", sep=\";\", encoding=\"latin-1\")"
   ]
  },
  {
   "cell_type": "code",
   "execution_count": 21,
   "metadata": {},
   "outputs": [],
   "source": [
    "mat_selected[1].to_csv(\"../datasets/selected/matriculas/mat_2020.csv\", sep=\";\", encoding=\"latin-1\")"
   ]
  },
  {
   "cell_type": "code",
   "execution_count": 22,
   "metadata": {},
   "outputs": [],
   "source": [
    "mat_selected[2].to_csv(\"../datasets/selected/matriculas/mat_2019.csv\", sep=\";\", encoding=\"latin-1\")"
   ]
  },
  {
   "cell_type": "code",
   "execution_count": 23,
   "metadata": {},
   "outputs": [],
   "source": [
    "mat_selected[3].to_csv(\"../datasets/selected/matriculas/mat_2018.csv\", sep=\";\", encoding=\"latin-1\")"
   ]
  },
  {
   "cell_type": "markdown",
   "metadata": {},
   "source": [
    "#### Microdados Eficiência Acadêmica"
   ]
  },
  {
   "cell_type": "code",
   "execution_count": 24,
   "metadata": {},
   "outputs": [
    {
     "name": "stdout",
     "output_type": "stream",
     "text": [
      "2021\n",
      "['Carga Horaria', 'Carga Horaria Mínima', 'Categoria da Situação', 'Cod Unidade', 'Cor / Raça', 'Código da Matricula', 'Código da Unidade de Ensino - SISTEC', 'Código do Ciclo Matricula', 'Código do Município com DV', 'Data de Fim Previsto do Ciclo', 'Data de Inicio do Ciclo', 'Data de Ocorrencia da Matricula', 'Eixo Tecnológico', 'Faixa Etária', 'Fator Esforço Curso', 'Fonte de Financiamento', 'Idade', 'Instituição', 'Matrículas Atendida', 'Matrículas Equivalentes', 'Modalidade de Ensino', 'Município', 'Mês De Ocorrência da Situação', 'Nome de Curso', 'Número de registros', 'Região', 'Renda Familiar', 'Sexo', 'Situação de Matrícula', 'Subeixo Tecnológico', 'Tipo de Curso', 'Tipo de Oferta', 'Total de Inscritos', 'Turno', 'UF', 'Unidade de Ensino', 'Vagas Extraordinárias AC', 'Vagas Extraordinárias l1', 'Vagas Extraordinárias l10', 'Vagas Extraordinárias l13', 'Vagas Extraordinárias l14', 'Vagas Extraordinárias l2', 'Vagas Extraordinárias l5', 'Vagas Extraordinárias l6', 'Vagas Extraordinárias l9', 'Vagas Ofertadas', 'Vagas Regulares AC', 'Vagas Regulares l1', 'Vagas Regulares l10', 'Vagas Regulares l13', 'Vagas Regulares l14', 'Vagas Regulares l2', 'Vagas Regulares l5', 'Vagas Regulares l6', 'Vagas Regulares l9']\n",
      "2020\n",
      "['Carga Horaria', 'Carga Horaria Minima', 'Categoria de Situação', 'Cod Unidade', 'Cor/Raça', 'Código da Matrícula', 'Código da Unidade de Ensino - SISTEC', 'Código do Ciclo de Matrícula', 'Código do Município com DV', 'Data de Fim Previsto do Ciclo', 'Data de Inicio do Ciclo', 'Data de Ocorrência da Matrícula', 'Eixo Tecnológico', 'Faixa Etária', 'Fator Esforco Curso', 'Fonte de Financiamento', 'Idade', 'Instituição', 'Matrícula 2019', 'Modalidade de Ensino', 'Mês de Ocorrência da Situação', 'Nome de Curso', 'Número de registros', 'Região', 'Renda Familiar', 'Sexo', 'Situação de Matrícula', 'Subeixo Tecnológico', 'Tipo de Curso', 'Tipo de Oferta', 'Tipo de Unidade', 'Tipo Oferta', 'Turno', 'UF', 'Unidade de Ensino', 'Vagas Extraordinárias AC', 'Vagas Extraordinárias l1', 'Vagas Extraordinárias l10', 'Vagas Extraordinárias l13', 'Vagas Extraordinárias l14', 'Vagas Extraordinárias l2', 'Vagas Extraordinárias l5', 'Vagas Extraordinárias l6', 'Vagas Extraordinárias l9', 'Vagas Ofertadas', 'Vagas Regulares AC', 'Vagas Regulares l1', 'Vagas Regulares l10', 'Vagas Regulares l13', 'Vagas Regulares l14', 'Vagas Regulares l2', 'Vagas Regulares l5', 'Vagas Regulares l6', 'Vagas Regulares l9']\n",
      "2019\n",
      "['Teste', 'Carga Horaria', 'Carga Horaria Minima', 'Categoria da Situação', 'Código do Ciclo Matricula', 'Código da Matricula', 'Código da Unidade de Ensino - SISTEC', 'Cod Unidade', 'Cor / Raça', 'Data de Inicio do Ciclo', 'Data de Fim Previsto do Ciclo', 'Data de Ocorrencia da Matricula', 'Eixo Tecnológico', 'Faixa Etária', 'Fator Esforco Curso', 'Fonte de Financiamento', 'Idade', 'Total de Inscritos', 'Instituição', 'Mês De Ocorrência da Situação', 'Modalidade de Ensino', 'Código do Município com DV', 'Município ', 'Vagas Ofertadas', 'Nome de Curso', 'Número de registros', 'Região ', 'Renda Familiar', 'Sexo', 'Situação de Matrícula', 'Sub Eixo Tecnologico', 'Tipo Oferta', 'Tipo de Curso', 'Turno', 'UF ', 'Unidade de Ensino', 'Vagas Extraordinárias AC', 'Vagas Extraordinárias l10', 'Vagas Extraordinárias l13', 'Vagas Extraordinárias l14', 'Vagas Extraordinárias l1', 'Vagas Extraordinárias l2', 'Vagas Extraordinárias l5', 'Vagas Extraordinárias l6', 'Vagas Extraordinárias l9', 'Vagas Regulares AC', 'Vagas Regulares l10', 'Vagas Regulares l13', 'Vagas Regulares l14', 'Vagas Regulares l1', 'Vagas Regulares l2', 'Vagas Regulares l5', 'Vagas Regulares l6', 'Vagas Regulares l9']\n",
      "2018\n",
      "['Sexo', 'Código da Matrícula', 'Data de Ocorrência da Matrícula', 'Situação da Matrícula', 'Categoria da Situação', 'Mês de Ocorrência da Situação', 'Data de Início do Ciclo', 'Data de Fim Previsto do Ciclo', 'Vagas Ofertadas', 'Total de Inscritos', 'Fonte de Financiamento', 'Carga Horária do Curso', 'Carga Horária Mínima Regulamentada', 'Eixo Tecnológico', 'Subeixo Tecnológico', 'Modalidade de Ensino', 'Tipo de Curso', 'Tipo de Oferta', 'Nome do Curso', 'Fator de Esforço de Curso', 'Código da Unidade de Ensino - SISTEC', 'Unidade de Ensino', 'Código do Município com DV', 'Município', 'Instituição', 'UF', 'Microrregião', 'Mesorregião', 'Região']\n"
     ]
    }
   ],
   "source": [
    "i = 2021\n",
    "\n",
    "for df in efa_filtered:\n",
    "    print(i)\n",
    "    print(list(df.columns))\n",
    "    i = i-1"
   ]
  },
  {
   "cell_type": "markdown",
   "metadata": {},
   "source": [
    "**Excluindo a coluna duplicada do tipo de oferta encontrada no dataframe de 2020**"
   ]
  },
  {
   "cell_type": "code",
   "execution_count": 25,
   "metadata": {},
   "outputs": [
    {
     "name": "stderr",
     "output_type": "stream",
     "text": [
      "C:\\Users\\Danielle (PROF)\\AppData\\Local\\Temp\\ipykernel_9440\\4007968423.py:1: SettingWithCopyWarning: \n",
      "A value is trying to be set on a copy of a slice from a DataFrame\n",
      "\n",
      "See the caveats in the documentation: https://pandas.pydata.org/pandas-docs/stable/user_guide/indexing.html#returning-a-view-versus-a-copy\n",
      "  efa_filtered[1].drop('Tipo Oferta', axis=1, inplace=True)\n"
     ]
    }
   ],
   "source": [
    "efa_filtered[1].drop('Tipo Oferta', axis=1, inplace=True)"
   ]
  },
  {
   "cell_type": "markdown",
   "metadata": {},
   "source": [
    "**Padronizando os nomes das colunas**\n",
    "\n",
    "Foram mantidos os mesmos nomes utilizados nos dataframes das matrículas."
   ]
  },
  {
   "cell_type": "code",
   "execution_count": 26,
   "metadata": {},
   "outputs": [
    {
     "name": "stderr",
     "output_type": "stream",
     "text": [
      "C:\\Users\\Danielle (PROF)\\AppData\\Local\\Temp\\ipykernel_9440\\516009959.py:3: SettingWithCopyWarning: \n",
      "A value is trying to be set on a copy of a slice from a DataFrame\n",
      "\n",
      "See the caveats in the documentation: https://pandas.pydata.org/pandas-docs/stable/user_guide/indexing.html#returning-a-view-versus-a-copy\n",
      "  df.rename(columns={old_columns_names[i]: new_columns_names[i]}, inplace=True)\n"
     ]
    }
   ],
   "source": [
    "for df in efa_filtered:\n",
    "    for i in range(len(old_columns_names)):\n",
    "        df.rename(columns={old_columns_names[i]: new_columns_names[i]}, inplace=True) "
   ]
  },
  {
   "cell_type": "code",
   "execution_count": 27,
   "metadata": {},
   "outputs": [
    {
     "name": "stdout",
     "output_type": "stream",
     "text": [
      "2021\n",
      "['carga_horaria', 'Carga Horaria Mínima', 'situacao', 'Cod Unidade', 'etnia', 'codigo_matricula', 'Código da Unidade de Ensino - SISTEC', 'Código do Ciclo Matricula', 'Código do Município com DV', 'Data de Fim Previsto do Ciclo', 'Data de Inicio do Ciclo', 'Data de Ocorrencia da Matricula', 'Eixo Tecnológico', 'faixa_etaria', 'fator_esforco_curso', 'Fonte de Financiamento', 'Idade', 'instituicao', 'Matrículas Atendida', 'Matrículas Equivalentes', 'modalidade', 'Município', 'Mês De Ocorrência da Situação', 'nome_curso', 'Número de registros', 'regiao', 'renda_familiar', 'sexo', 'Situação de Matrícula', 'subeixo_tecnologico', 'tipo_curso', 'tipo_oferta', 'Total de Inscritos', 'turno', 'estado', 'Unidade de Ensino', 'Vagas Extraordinárias AC', 'Vagas Extraordinárias l1', 'Vagas Extraordinárias l10', 'Vagas Extraordinárias l13', 'Vagas Extraordinárias l14', 'Vagas Extraordinárias l2', 'Vagas Extraordinárias l5', 'Vagas Extraordinárias l6', 'Vagas Extraordinárias l9', 'Vagas Ofertadas', 'Vagas Regulares AC', 'Vagas Regulares l1', 'Vagas Regulares l10', 'Vagas Regulares l13', 'Vagas Regulares l14', 'Vagas Regulares l2', 'Vagas Regulares l5', 'Vagas Regulares l6', 'Vagas Regulares l9']\n",
      "2020\n",
      "['carga_horaria', 'Carga Horaria Minima', 'situacao', 'Cod Unidade', 'etnia', 'codigo_matricula', 'Código da Unidade de Ensino - SISTEC', 'Código do Ciclo de Matrícula', 'Código do Município com DV', 'Data de Fim Previsto do Ciclo', 'Data de Inicio do Ciclo', 'Data de Ocorrência da Matrícula', 'Eixo Tecnológico', 'faixa_etaria', 'fator_esforco_curso', 'Fonte de Financiamento', 'Idade', 'instituicao', 'Matrícula 2019', 'modalidade', 'Mês de Ocorrência da Situação', 'nome_curso', 'Número de registros', 'regiao', 'renda_familiar', 'sexo', 'Situação de Matrícula', 'subeixo_tecnologico', 'tipo_curso', 'tipo_oferta', 'Tipo de Unidade', 'turno', 'estado', 'Unidade de Ensino', 'Vagas Extraordinárias AC', 'Vagas Extraordinárias l1', 'Vagas Extraordinárias l10', 'Vagas Extraordinárias l13', 'Vagas Extraordinárias l14', 'Vagas Extraordinárias l2', 'Vagas Extraordinárias l5', 'Vagas Extraordinárias l6', 'Vagas Extraordinárias l9', 'Vagas Ofertadas', 'Vagas Regulares AC', 'Vagas Regulares l1', 'Vagas Regulares l10', 'Vagas Regulares l13', 'Vagas Regulares l14', 'Vagas Regulares l2', 'Vagas Regulares l5', 'Vagas Regulares l6', 'Vagas Regulares l9']\n",
      "2019\n",
      "['Teste', 'carga_horaria', 'Carga Horaria Minima', 'situacao', 'Código do Ciclo Matricula', 'codigo_matricula', 'Código da Unidade de Ensino - SISTEC', 'Cod Unidade', 'etnia', 'Data de Inicio do Ciclo', 'Data de Fim Previsto do Ciclo', 'Data de Ocorrencia da Matricula', 'Eixo Tecnológico', 'faixa_etaria', 'fator_esforco_curso', 'Fonte de Financiamento', 'Idade', 'Total de Inscritos', 'instituicao', 'Mês De Ocorrência da Situação', 'modalidade', 'Código do Município com DV', 'Município ', 'Vagas Ofertadas', 'nome_curso', 'Número de registros', 'regiao', 'renda_familiar', 'sexo', 'Situação de Matrícula', 'subeixo_tecnologico', 'tipo_oferta', 'tipo_curso', 'turno', 'estado', 'Unidade de Ensino', 'Vagas Extraordinárias AC', 'Vagas Extraordinárias l10', 'Vagas Extraordinárias l13', 'Vagas Extraordinárias l14', 'Vagas Extraordinárias l1', 'Vagas Extraordinárias l2', 'Vagas Extraordinárias l5', 'Vagas Extraordinárias l6', 'Vagas Extraordinárias l9', 'Vagas Regulares AC', 'Vagas Regulares l10', 'Vagas Regulares l13', 'Vagas Regulares l14', 'Vagas Regulares l1', 'Vagas Regulares l2', 'Vagas Regulares l5', 'Vagas Regulares l6', 'Vagas Regulares l9']\n",
      "2018\n",
      "['sexo', 'codigo_matricula', 'Data de Ocorrência da Matrícula', 'Situação da Matrícula', 'situacao', 'Mês de Ocorrência da Situação', 'Data de Início do Ciclo', 'Data de Fim Previsto do Ciclo', 'Vagas Ofertadas', 'Total de Inscritos', 'Fonte de Financiamento', 'carga_horaria', 'Carga Horária Mínima Regulamentada', 'Eixo Tecnológico', 'subeixo_tecnologico', 'modalidade', 'tipo_curso', 'tipo_oferta', 'nome_curso', 'fator_esforco_curso', 'Código da Unidade de Ensino - SISTEC', 'Unidade de Ensino', 'Código do Município com DV', 'Município', 'instituicao', 'estado', 'Microrregião', 'Mesorregião', 'regiao']\n"
     ]
    }
   ],
   "source": [
    "i = 2021\n",
    "\n",
    "for df in efa_filtered:\n",
    "    print(i)\n",
    "    print(list(df.columns))\n",
    "    i = i-1"
   ]
  },
  {
   "cell_type": "markdown",
   "metadata": {},
   "source": [
    "**Criando novos dataframes apenas com os campos desejados**\n",
    "\n",
    "O dataframe correspondente ao ano de 2018 não possui as colunas turno, sexo, etnia, faixa_etaria e renda_familiar, não sendo possível trabalhar estas informações. Entretanto, tal situação não impactará significativamente no trabalho, pois tais informações constam no conjunto de dados correspondente em Matrículas."
   ]
  },
  {
   "cell_type": "code",
   "execution_count": 28,
   "metadata": {},
   "outputs": [
    {
     "name": "stdout",
     "output_type": "stream",
     "text": [
      "(99653, 17)\n",
      "(53407, 17)\n",
      "(51013, 17)\n",
      "(55743, 12)\n"
     ]
    }
   ],
   "source": [
    "efa_selected = []\n",
    "i = 0\n",
    "\n",
    "for df in efa_filtered:\n",
    "    if i < 3:\n",
    "        df = df[[\n",
    "            # Identificador Único do Registro\n",
    "            'codigo_matricula',\n",
    "            # Dados geográficos\n",
    "            'instituicao', 'regiao', 'estado',\n",
    "            # Fatores internos\n",
    "            'subeixo_tecnologico','nome_curso', 'tipo_curso', 'tipo_oferta', \n",
    "            'modalidade', 'turno', 'carga_horaria', 'fator_esforco_curso',\n",
    "            # Fatores externos\n",
    "            'sexo', 'etnia', 'faixa_etaria', 'renda_familiar',\n",
    "            # Coluna Alvo\n",
    "            'situacao'\n",
    "        ]]\n",
    "    else:\n",
    "        df = df[[\n",
    "            # Identificador Único do Registro\n",
    "            'codigo_matricula',\n",
    "            # Dados geográficos\n",
    "            'instituicao', 'regiao', 'estado',\n",
    "            # Fatores internos\n",
    "            'subeixo_tecnologico','nome_curso', 'tipo_curso', 'tipo_oferta', \n",
    "            'modalidade', 'carga_horaria', 'fator_esforco_curso',\n",
    "            # Coluna Alvo\n",
    "            'situacao'\n",
    "        ]]\n",
    "    print(df.shape)\n",
    "    efa_selected.append(df)\n",
    "    i = i + 1"
   ]
  },
  {
   "cell_type": "code",
   "execution_count": 29,
   "metadata": {},
   "outputs": [
    {
     "name": "stdout",
     "output_type": "stream",
     "text": [
      "2021\n",
      "['codigo_matricula', 'instituicao', 'regiao', 'estado', 'subeixo_tecnologico', 'nome_curso', 'tipo_curso', 'tipo_oferta', 'modalidade', 'turno', 'carga_horaria', 'fator_esforco_curso', 'sexo', 'etnia', 'faixa_etaria', 'renda_familiar', 'situacao']\n",
      "2020\n",
      "['codigo_matricula', 'instituicao', 'regiao', 'estado', 'subeixo_tecnologico', 'nome_curso', 'tipo_curso', 'tipo_oferta', 'modalidade', 'turno', 'carga_horaria', 'fator_esforco_curso', 'sexo', 'etnia', 'faixa_etaria', 'renda_familiar', 'situacao']\n",
      "2019\n",
      "['codigo_matricula', 'instituicao', 'regiao', 'estado', 'subeixo_tecnologico', 'nome_curso', 'tipo_curso', 'tipo_oferta', 'modalidade', 'turno', 'carga_horaria', 'fator_esforco_curso', 'sexo', 'etnia', 'faixa_etaria', 'renda_familiar', 'situacao']\n",
      "2018\n",
      "['codigo_matricula', 'instituicao', 'regiao', 'estado', 'subeixo_tecnologico', 'nome_curso', 'tipo_curso', 'tipo_oferta', 'modalidade', 'carga_horaria', 'fator_esforco_curso', 'situacao']\n"
     ]
    }
   ],
   "source": [
    "i = 2021\n",
    "\n",
    "for df in efa_selected:\n",
    "    print(i)\n",
    "    print(list(df.columns))\n",
    "    i = i-1"
   ]
  },
  {
   "cell_type": "markdown",
   "metadata": {},
   "source": [
    "**Salvando datasets modificados**"
   ]
  },
  {
   "cell_type": "code",
   "execution_count": 30,
   "metadata": {},
   "outputs": [],
   "source": [
    "efa_selected[0].to_csv(\"../datasets/selected/eficiencia/efa_2021.csv\", sep=\";\", encoding=\"latin-1\")"
   ]
  },
  {
   "cell_type": "code",
   "execution_count": 31,
   "metadata": {},
   "outputs": [],
   "source": [
    "efa_selected[1].to_csv(\"../datasets/selected/eficiencia/efa_2020.csv\", sep=\";\", encoding=\"latin-1\")"
   ]
  },
  {
   "cell_type": "code",
   "execution_count": 32,
   "metadata": {},
   "outputs": [],
   "source": [
    "efa_selected[2].to_csv(\"../datasets/selected/eficiencia/efa_2019.csv\", sep=\";\", encoding=\"latin-1\")"
   ]
  },
  {
   "cell_type": "code",
   "execution_count": 33,
   "metadata": {},
   "outputs": [],
   "source": [
    "efa_selected[3].to_csv(\"../datasets/selected/eficiencia/efa_2018.csv\", sep=\";\", encoding=\"latin-1\")"
   ]
  }
 ],
 "metadata": {
  "kernelspec": {
   "display_name": "base",
   "language": "python",
   "name": "python3"
  },
  "language_info": {
   "codemirror_mode": {
    "name": "ipython",
    "version": 3
   },
   "file_extension": ".py",
   "mimetype": "text/x-python",
   "name": "python",
   "nbconvert_exporter": "python",
   "pygments_lexer": "ipython3",
   "version": "3.11.7"
  }
 },
 "nbformat": 4,
 "nbformat_minor": 2
}
