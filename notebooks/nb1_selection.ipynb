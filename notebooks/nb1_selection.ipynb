{
 "cells": [
  {
   "cell_type": "markdown",
   "metadata": {},
   "source": [
    "## Selecionando dados"
   ]
  },
  {
   "cell_type": "markdown",
   "metadata": {},
   "source": [
    "### Importando bibliotecas"
   ]
  },
  {
   "cell_type": "code",
   "execution_count": 3,
   "metadata": {},
   "outputs": [],
   "source": [
    "import pandas as pd"
   ]
  },
  {
   "cell_type": "markdown",
   "metadata": {},
   "source": [
    "### Importando arquivos"
   ]
  },
  {
   "cell_type": "code",
   "execution_count": 4,
   "metadata": {},
   "outputs": [],
   "source": [
    "mat_2021 = pd.read_csv(\"../datasets/original/matriculas/mat_2021.csv\", sep=\";\", on_bad_lines=\"skip\")\n",
    "mat_2020 = pd.read_csv(\"../datasets/original/matriculas/mat_2021.csv\", sep=\";\", on_bad_lines=\"skip\")\n",
    "mat_2019 = pd.read_csv(\"../datasets/original/matriculas/mat_2021.csv\", sep=\";\", on_bad_lines=\"skip\")\n",
    "mat_2018 = pd.read_csv(\"../datasets/original/matriculas/mat_2021.csv\", sep=\";\", on_bad_lines=\"skip\")\n",
    "mat_2017 = pd.read_csv(\"../datasets/original/matriculas/mat_2021.csv\", sep=\";\", on_bad_lines=\"skip\")"
   ]
  },
  {
   "cell_type": "code",
   "execution_count": 60,
   "metadata": {},
   "outputs": [],
   "source": [
    "efa_2021 = pd.read_csv(\"../datasets/original/eficiencia/efa_2021.csv\", sep=\";\", on_bad_lines=\"skip\", low_memory=False)\n",
    "efa_2020 = pd.read_csv(\"../datasets/original/eficiencia/efa_2020.csv\", sep=\";\", on_bad_lines=\"skip\", low_memory=False)\n",
    "efa_2019 = pd.read_csv(\"../datasets/original/eficiencia/efa_2019.csv\", sep=\";\", on_bad_lines=\"skip\", low_memory=False)\n",
    "efa_2018 = pd.read_csv(\"../datasets/original/eficiencia/efa_2018.csv\", sep=\";\", on_bad_lines=\"skip\", low_memory=False, encoding='latin-1')\n",
    "efa_2017 = pd.read_csv(\"../datasets/original/eficiencia/efa_2017.csv\", sep=\";\", on_bad_lines=\"skip\", low_memory=False, encoding='latin-1')"
   ]
  },
  {
   "cell_type": "markdown",
   "metadata": {},
   "source": [
    "### Selecionando colunas"
   ]
  },
  {
   "cell_type": "markdown",
   "metadata": {},
   "source": [
    "#### Microdados Matrículas"
   ]
  },
  {
   "cell_type": "markdown",
   "metadata": {},
   "source": [
    "**Criando um array com os dataframes das Matrículas**"
   ]
  },
  {
   "cell_type": "code",
   "execution_count": 6,
   "metadata": {},
   "outputs": [],
   "source": [
    "mat_datasets = [mat_2021, mat_2020, mat_2019, mat_2018, mat_2017]"
   ]
  },
  {
   "cell_type": "markdown",
   "metadata": {},
   "source": [
    "**Exibindo as colunas de cada dataframe**\n",
    "\n",
    "Nota-se que todos têm exatamente a mesma quantidade de colunas e que os nomes das colunas estão padronizados.\n",
    "\n",
    "**TOTAL DE COLUNAS: 56**"
   ]
  },
  {
   "cell_type": "code",
   "execution_count": 68,
   "metadata": {},
   "outputs": [
    {
     "name": "stdout",
     "output_type": "stream",
     "text": [
      "['Carga Horaria', 'Carga Horaria Mínima', 'Categoria da Situação', 'Co Inst', 'Cod Unidade', 'Cor / Raça', 'Código da Matricula', 'Código da Unidade de Ensino - SISTEC', 'Código do Ciclo Matricula', 'Código do Município com DV', 'Data de Fim Previsto do Ciclo', 'Data de Inicio do Ciclo', 'Data de Ocorrencia da Matricula', 'Eixo Tecnológico', 'Faixa Etária', 'Fator Esforço Curso', 'Fonte de Financiamento', 'Idade', 'Instituição', 'Matrículas Atendida', 'Matrículas Equivalentes', 'Modalidade de Ensino', 'Município', 'Mês De Ocorrência da Situação', 'Nome de Curso', 'Número de registros', 'Região', 'Renda Familiar', 'Sexo', 'Situação de Matrícula', 'Subeixo Tecnológico', 'Tipo de Curso', 'Tipo de Oferta', 'Total de Inscritos', 'Turno', 'UF', 'Unidade de Ensino', 'Vagas Extraordinárias AC', 'Vagas Extraordinárias l1', 'Vagas Extraordinárias l10', 'Vagas Extraordinárias l13', 'Vagas Extraordinárias l14', 'Vagas Extraordinárias l2', 'Vagas Extraordinárias l5', 'Vagas Extraordinárias l6', 'Vagas Extraordinárias l9', 'Vagas Ofertadas', 'Vagas Regulares AC', 'Vagas Regulares l1', 'Vagas Regulares l10', 'Vagas Regulares l13', 'Vagas Regulares l14', 'Vagas Regulares l2', 'Vagas Regulares l5', 'Vagas Regulares l6', 'Vagas Regulares l9']\n",
      "(1523346, 56)\n",
      "['Carga Horaria', 'Carga Horaria Mínima', 'Categoria da Situação', 'Co Inst', 'Cod Unidade', 'Cor / Raça', 'Código da Matricula', 'Código da Unidade de Ensino - SISTEC', 'Código do Ciclo Matricula', 'Código do Município com DV', 'Data de Fim Previsto do Ciclo', 'Data de Inicio do Ciclo', 'Data de Ocorrencia da Matricula', 'Eixo Tecnológico', 'Faixa Etária', 'Fator Esforço Curso', 'Fonte de Financiamento', 'Idade', 'Instituição', 'Matrículas Atendida', 'Matrículas Equivalentes', 'Modalidade de Ensino', 'Município', 'Mês De Ocorrência da Situação', 'Nome de Curso', 'Número de registros', 'Região', 'Renda Familiar', 'Sexo', 'Situação de Matrícula', 'Subeixo Tecnológico', 'Tipo de Curso', 'Tipo de Oferta', 'Total de Inscritos', 'Turno', 'UF', 'Unidade de Ensino', 'Vagas Extraordinárias AC', 'Vagas Extraordinárias l1', 'Vagas Extraordinárias l10', 'Vagas Extraordinárias l13', 'Vagas Extraordinárias l14', 'Vagas Extraordinárias l2', 'Vagas Extraordinárias l5', 'Vagas Extraordinárias l6', 'Vagas Extraordinárias l9', 'Vagas Ofertadas', 'Vagas Regulares AC', 'Vagas Regulares l1', 'Vagas Regulares l10', 'Vagas Regulares l13', 'Vagas Regulares l14', 'Vagas Regulares l2', 'Vagas Regulares l5', 'Vagas Regulares l6', 'Vagas Regulares l9']\n",
      "(1523346, 56)\n",
      "['Carga Horaria', 'Carga Horaria Mínima', 'Categoria da Situação', 'Co Inst', 'Cod Unidade', 'Cor / Raça', 'Código da Matricula', 'Código da Unidade de Ensino - SISTEC', 'Código do Ciclo Matricula', 'Código do Município com DV', 'Data de Fim Previsto do Ciclo', 'Data de Inicio do Ciclo', 'Data de Ocorrencia da Matricula', 'Eixo Tecnológico', 'Faixa Etária', 'Fator Esforço Curso', 'Fonte de Financiamento', 'Idade', 'Instituição', 'Matrículas Atendida', 'Matrículas Equivalentes', 'Modalidade de Ensino', 'Município', 'Mês De Ocorrência da Situação', 'Nome de Curso', 'Número de registros', 'Região', 'Renda Familiar', 'Sexo', 'Situação de Matrícula', 'Subeixo Tecnológico', 'Tipo de Curso', 'Tipo de Oferta', 'Total de Inscritos', 'Turno', 'UF', 'Unidade de Ensino', 'Vagas Extraordinárias AC', 'Vagas Extraordinárias l1', 'Vagas Extraordinárias l10', 'Vagas Extraordinárias l13', 'Vagas Extraordinárias l14', 'Vagas Extraordinárias l2', 'Vagas Extraordinárias l5', 'Vagas Extraordinárias l6', 'Vagas Extraordinárias l9', 'Vagas Ofertadas', 'Vagas Regulares AC', 'Vagas Regulares l1', 'Vagas Regulares l10', 'Vagas Regulares l13', 'Vagas Regulares l14', 'Vagas Regulares l2', 'Vagas Regulares l5', 'Vagas Regulares l6', 'Vagas Regulares l9']\n",
      "(1523346, 56)\n",
      "['Carga Horaria', 'Carga Horaria Mínima', 'Categoria da Situação', 'Co Inst', 'Cod Unidade', 'Cor / Raça', 'Código da Matricula', 'Código da Unidade de Ensino - SISTEC', 'Código do Ciclo Matricula', 'Código do Município com DV', 'Data de Fim Previsto do Ciclo', 'Data de Inicio do Ciclo', 'Data de Ocorrencia da Matricula', 'Eixo Tecnológico', 'Faixa Etária', 'Fator Esforço Curso', 'Fonte de Financiamento', 'Idade', 'Instituição', 'Matrículas Atendida', 'Matrículas Equivalentes', 'Modalidade de Ensino', 'Município', 'Mês De Ocorrência da Situação', 'Nome de Curso', 'Número de registros', 'Região', 'Renda Familiar', 'Sexo', 'Situação de Matrícula', 'Subeixo Tecnológico', 'Tipo de Curso', 'Tipo de Oferta', 'Total de Inscritos', 'Turno', 'UF', 'Unidade de Ensino', 'Vagas Extraordinárias AC', 'Vagas Extraordinárias l1', 'Vagas Extraordinárias l10', 'Vagas Extraordinárias l13', 'Vagas Extraordinárias l14', 'Vagas Extraordinárias l2', 'Vagas Extraordinárias l5', 'Vagas Extraordinárias l6', 'Vagas Extraordinárias l9', 'Vagas Ofertadas', 'Vagas Regulares AC', 'Vagas Regulares l1', 'Vagas Regulares l10', 'Vagas Regulares l13', 'Vagas Regulares l14', 'Vagas Regulares l2', 'Vagas Regulares l5', 'Vagas Regulares l6', 'Vagas Regulares l9']\n",
      "(1523346, 56)\n",
      "['Carga Horaria', 'Carga Horaria Mínima', 'Categoria da Situação', 'Co Inst', 'Cod Unidade', 'Cor / Raça', 'Código da Matricula', 'Código da Unidade de Ensino - SISTEC', 'Código do Ciclo Matricula', 'Código do Município com DV', 'Data de Fim Previsto do Ciclo', 'Data de Inicio do Ciclo', 'Data de Ocorrencia da Matricula', 'Eixo Tecnológico', 'Faixa Etária', 'Fator Esforço Curso', 'Fonte de Financiamento', 'Idade', 'Instituição', 'Matrículas Atendida', 'Matrículas Equivalentes', 'Modalidade de Ensino', 'Município', 'Mês De Ocorrência da Situação', 'Nome de Curso', 'Número de registros', 'Região', 'Renda Familiar', 'Sexo', 'Situação de Matrícula', 'Subeixo Tecnológico', 'Tipo de Curso', 'Tipo de Oferta', 'Total de Inscritos', 'Turno', 'UF', 'Unidade de Ensino', 'Vagas Extraordinárias AC', 'Vagas Extraordinárias l1', 'Vagas Extraordinárias l10', 'Vagas Extraordinárias l13', 'Vagas Extraordinárias l14', 'Vagas Extraordinárias l2', 'Vagas Extraordinárias l5', 'Vagas Extraordinárias l6', 'Vagas Extraordinárias l9', 'Vagas Ofertadas', 'Vagas Regulares AC', 'Vagas Regulares l1', 'Vagas Regulares l10', 'Vagas Regulares l13', 'Vagas Regulares l14', 'Vagas Regulares l2', 'Vagas Regulares l5', 'Vagas Regulares l6', 'Vagas Regulares l9']\n",
      "(1523346, 56)\n"
     ]
    }
   ],
   "source": [
    "for dataset in mat_datasets:\n",
    "    print(list(dataset.columns))\n",
    "    print(dataset.shape)"
   ]
  },
  {
   "cell_type": "markdown",
   "metadata": {},
   "source": [
    "**Selecionando colunas relevantes**\n",
    "\n",
    "Os dados relevantes para estudo da evasão escolar compreendes os seguintes fatores:\n",
    "\n",
    "- Fatores Internos à Instituição de Ensino, com destaque aos fatores geográficos e da estrutura do curso\n",
    "- Fatores Externos à Instituição de Ensino, com destaque para fatores socioeconômicos\n",
    "\n",
    "Assim, foram selecionadas somente as variáveis presentes nos conjuntos de dados que correspondem a tais fatores.\n",
    "\n",
    "**TOTAL DE COLUNAS: 18**"
   ]
  },
  {
   "cell_type": "code",
   "execution_count": 69,
   "metadata": {},
   "outputs": [
    {
     "name": "stdout",
     "output_type": "stream",
     "text": [
      "['Situação de Matrícula', 'Código da Matricula', 'Instituição', 'Região', 'UF', 'Eixo Tecnológico', 'Subeixo Tecnológico', 'Nome de Curso', 'Tipo de Curso', 'Tipo de Oferta', 'Modalidade de Ensino', 'Turno', 'Carga Horaria', 'Fator Esforço Curso', 'Sexo', 'Cor / Raça', 'Faixa Etária', 'Renda Familiar']\n",
      "(1523346, 18)\n",
      "['Situação de Matrícula', 'Código da Matricula', 'Instituição', 'Região', 'UF', 'Eixo Tecnológico', 'Subeixo Tecnológico', 'Nome de Curso', 'Tipo de Curso', 'Tipo de Oferta', 'Modalidade de Ensino', 'Turno', 'Carga Horaria', 'Fator Esforço Curso', 'Sexo', 'Cor / Raça', 'Faixa Etária', 'Renda Familiar']\n",
      "(1523346, 18)\n",
      "['Situação de Matrícula', 'Código da Matricula', 'Instituição', 'Região', 'UF', 'Eixo Tecnológico', 'Subeixo Tecnológico', 'Nome de Curso', 'Tipo de Curso', 'Tipo de Oferta', 'Modalidade de Ensino', 'Turno', 'Carga Horaria', 'Fator Esforço Curso', 'Sexo', 'Cor / Raça', 'Faixa Etária', 'Renda Familiar']\n",
      "(1523346, 18)\n",
      "['Situação de Matrícula', 'Código da Matricula', 'Instituição', 'Região', 'UF', 'Eixo Tecnológico', 'Subeixo Tecnológico', 'Nome de Curso', 'Tipo de Curso', 'Tipo de Oferta', 'Modalidade de Ensino', 'Turno', 'Carga Horaria', 'Fator Esforço Curso', 'Sexo', 'Cor / Raça', 'Faixa Etária', 'Renda Familiar']\n",
      "(1523346, 18)\n",
      "['Situação de Matrícula', 'Código da Matricula', 'Instituição', 'Região', 'UF', 'Eixo Tecnológico', 'Subeixo Tecnológico', 'Nome de Curso', 'Tipo de Curso', 'Tipo de Oferta', 'Modalidade de Ensino', 'Turno', 'Carga Horaria', 'Fator Esforço Curso', 'Sexo', 'Cor / Raça', 'Faixa Etária', 'Renda Familiar']\n",
      "(1523346, 18)\n"
     ]
    }
   ],
   "source": [
    "for dataset in mat_datasets:\n",
    "    dataset = dataset[[\n",
    "        'Situação de Matrícula',\n",
    "        'Código da Matricula', \n",
    "        'Instituição', \n",
    "        'Região', 'UF',\n",
    "        'Eixo Tecnológico',\n",
    "        'Subeixo Tecnológico',\n",
    "        'Nome de Curso', \n",
    "        'Tipo de Curso',\n",
    "        'Tipo de Oferta', \n",
    "        'Modalidade de Ensino',\n",
    "        'Turno',\n",
    "        'Carga Horaria',\n",
    "        'Fator Esforço Curso',\n",
    "        'Sexo',\n",
    "        'Cor / Raça',\n",
    "        'Faixa Etária',\n",
    "        'Renda Familiar'\n",
    "    ]]\n",
    "    print(list(dataset.columns))\n",
    "    print(dataset.shape)"
   ]
  },
  {
   "cell_type": "markdown",
   "metadata": {},
   "source": [
    "**Salvando datasets modificados**"
   ]
  },
  {
   "cell_type": "code",
   "execution_count": 79,
   "metadata": {},
   "outputs": [],
   "source": [
    "mat_datasets[0].to_csv(\"../datasets/modified/matriculas/mat_2021.csv\", sep=\";\", encoding=\"utf-8\")"
   ]
  },
  {
   "cell_type": "code",
   "execution_count": 80,
   "metadata": {},
   "outputs": [],
   "source": [
    "mat_datasets[1].to_csv(\"../datasets/modified/matriculas/mat_2020.csv\", sep=\";\", encoding=\"utf-8\")"
   ]
  },
  {
   "cell_type": "code",
   "execution_count": 81,
   "metadata": {},
   "outputs": [],
   "source": [
    "mat_datasets[2].to_csv(\"../datasets/modified/matriculas/mat_2019.csv\", sep=\";\", encoding=\"utf-8\")"
   ]
  },
  {
   "cell_type": "code",
   "execution_count": 82,
   "metadata": {},
   "outputs": [],
   "source": [
    "mat_datasets[3].to_csv(\"../datasets/modified/matriculas/mat_2018.csv\", sep=\";\", encoding=\"utf-8\")"
   ]
  },
  {
   "cell_type": "code",
   "execution_count": 83,
   "metadata": {},
   "outputs": [],
   "source": [
    "mat_datasets[4].to_csv(\"../datasets/modified/matriculas/mat_2017.csv\", sep=\";\", encoding=\"utf-8\")"
   ]
  },
  {
   "cell_type": "markdown",
   "metadata": {},
   "source": [
    "#### Microdados Eficiência Acadêmica"
   ]
  },
  {
   "cell_type": "markdown",
   "metadata": {},
   "source": [
    "**Criando um array com os dataframes da Eficiência Acadêmica**"
   ]
  },
  {
   "cell_type": "code",
   "execution_count": 61,
   "metadata": {},
   "outputs": [],
   "source": [
    "efa_datasets = [efa_2021, efa_2020, efa_2019, efa_2018, efa_2017]"
   ]
  },
  {
   "cell_type": "markdown",
   "metadata": {},
   "source": [
    "**Exibindo as colunas de cada dataframe**\n",
    "\n",
    "Nota-se que os dataframes possuem quantidades distintas colunas e que os nomes das colunas NÃO estão padronizados.\n",
    "\n",
    "**TOTAL DE COLUNAS (MAIOR DATAFRAME): 55**"
   ]
  },
  {
   "cell_type": "code",
   "execution_count": 62,
   "metadata": {},
   "outputs": [
    {
     "name": "stdout",
     "output_type": "stream",
     "text": [
      "['Carga Horaria', 'Carga Horaria Mínima', 'Categoria da Situação', 'Cod Unidade', 'Cor / Raça', 'Código da Matricula', 'Código da Unidade de Ensino - SISTEC', 'Código do Ciclo Matricula', 'Código do Município com DV', 'Data de Fim Previsto do Ciclo', 'Data de Inicio do Ciclo', 'Data de Ocorrencia da Matricula', 'Eixo Tecnológico', 'Faixa Etária', 'Fator Esforço Curso', 'Fonte de Financiamento', 'Idade', 'Instituição', 'Matrículas Atendida', 'Matrículas Equivalentes', 'Modalidade de Ensino', 'Município', 'Mês De Ocorrência da Situação', 'Nome de Curso', 'Número de registros', 'Região', 'Renda Familiar', 'Sexo', 'Situação de Matrícula', 'Subeixo Tecnológico', 'Tipo de Curso', 'Tipo de Oferta', 'Total de Inscritos', 'Turno', 'UF', 'Unidade de Ensino', 'Vagas Extraordinárias AC', 'Vagas Extraordinárias l1', 'Vagas Extraordinárias l10', 'Vagas Extraordinárias l13', 'Vagas Extraordinárias l14', 'Vagas Extraordinárias l2', 'Vagas Extraordinárias l5', 'Vagas Extraordinárias l6', 'Vagas Extraordinárias l9', 'Vagas Ofertadas', 'Vagas Regulares AC', 'Vagas Regulares l1', 'Vagas Regulares l10', 'Vagas Regulares l13', 'Vagas Regulares l14', 'Vagas Regulares l2', 'Vagas Regulares l5', 'Vagas Regulares l6', 'Vagas Regulares l9']\n",
      "(889855, 55)\n",
      "['Carga Horaria', 'Carga Horaria Minima', 'Categoria de Situação', 'Cod Unidade', 'Cor/Raça', 'Código da Matrícula', 'Código da Unidade de Ensino - SISTEC', 'Código do Ciclo de Matrícula', 'Código do Município com DV', 'Data de Fim Previsto do Ciclo', 'Data de Inicio do Ciclo', 'Data de Ocorrência da Matrícula', 'Eixo Tecnológico', 'Faixa Etária', 'Fator Esforco Curso', 'Fonte de Financiamento', 'Idade', 'Instituição', 'Matrícula 2019', 'Modalidade de Ensino', 'Mês de Ocorrência da Situação', 'Nome de Curso', 'Número de registros', 'Região', 'Renda Familiar', 'Sexo', 'Situação de Matrícula', 'Subeixo Tecnológico', 'Tipo de Curso', 'Tipo de Oferta', 'Tipo de Unidade', 'Tipo Oferta', 'Turno', 'UF', 'Unidade de Ensino', 'Vagas Extraordinárias AC', 'Vagas Extraordinárias l1', 'Vagas Extraordinárias l10', 'Vagas Extraordinárias l13', 'Vagas Extraordinárias l14', 'Vagas Extraordinárias l2', 'Vagas Extraordinárias l5', 'Vagas Extraordinárias l6', 'Vagas Extraordinárias l9', 'Vagas Ofertadas', 'Vagas Regulares AC', 'Vagas Regulares l1', 'Vagas Regulares l10', 'Vagas Regulares l13', 'Vagas Regulares l14', 'Vagas Regulares l2', 'Vagas Regulares l5', 'Vagas Regulares l6', 'Vagas Regulares l9']\n",
      "(383153, 54)\n",
      "['Teste', 'Carga Horaria', 'Carga Horaria Minima', 'Categoria da Situação', 'Código do Ciclo Matricula', 'Código da Matricula', 'Código da Unidade de Ensino - SISTEC', 'Cod Unidade', 'Cor / Raça', 'Data de Inicio do Ciclo', 'Data de Fim Previsto do Ciclo', 'Data de Ocorrencia da Matricula', 'Eixo Tecnológico', 'Faixa Etária', 'Fator Esforco Curso', 'Fonte de Financiamento', 'Idade', 'Total de Inscritos', 'Instituição', 'Mês De Ocorrência da Situação', 'Modalidade de Ensino', 'Código do Município com DV', 'Município ', 'Vagas Ofertadas', 'Nome de Curso', 'Número de registros', 'Região ', 'Renda Familiar', 'Sexo', 'Situação de Matrícula', 'Sub Eixo Tecnologico', 'Tipo Oferta', 'Tipo de Curso', 'Turno', 'UF ', 'Unidade de Ensino', 'Vagas Extraordinárias AC', 'Vagas Extraordinárias l10', 'Vagas Extraordinárias l13', 'Vagas Extraordinárias l14', 'Vagas Extraordinárias l1', 'Vagas Extraordinárias l2', 'Vagas Extraordinárias l5', 'Vagas Extraordinárias l6', 'Vagas Extraordinárias l9', 'Vagas Regulares AC', 'Vagas Regulares l10', 'Vagas Regulares l13', 'Vagas Regulares l14', 'Vagas Regulares l1', 'Vagas Regulares l2', 'Vagas Regulares l5', 'Vagas Regulares l6', 'Vagas Regulares l9']\n",
      "(338848, 54)\n",
      "['Sexo', 'Código da Matrícula', 'Data de Ocorrência da Matrícula', 'Situação da Matrícula', 'Categoria da Situação', 'Mês de Ocorrência da Situação', 'Data de Início do Ciclo', 'Data de Fim Previsto do Ciclo', 'Vagas Ofertadas', 'Total de Inscritos', 'Fonte de Financiamento', 'Carga Horária do Curso', 'Carga Horária Mínima Regulamentada', 'Eixo Tecnológico', 'Subeixo Tecnológico', 'Modalidade de Ensino', 'Tipo de Curso', 'Tipo de Oferta', 'Nome do Curso', 'Fator de Esforço de Curso', 'Código da Unidade de Ensino - SISTEC', 'Unidade de Ensino', 'Código do Município com DV', 'Município', 'Instituição', 'UF', 'Microrregião', 'Mesorregião', 'Região']\n",
      "(374037, 29)\n",
      "['N£mero de registros', 'Carga Horaria', 'Carga Horaria Minima', 'Co Matricula', 'Dt Data Fim Previsto', 'Dt Data Inicio', 'Dt Ocorrencia Matricula', 'Duracao Minima Em Anos', 'Eixo Tecnologico', 'Fator Esforco Curso', 'Mes De Ocorrencia', 'Modalidade Ensino', 'Nome Curso', 'Programa Associado', 'Sg Inst', 'Sg Sexo', 'Situa__O_Matricula', 'Sub Eixo Tecnologico', 'Tipo Curso', 'Tipo Oferta', 'Total Inscritos', 'Unidade Ensino', 'Vagas Ofertadas']\n",
      "(308103, 23)\n"
     ]
    }
   ],
   "source": [
    "for dataset in efa_datasets:\n",
    "    print(list(dataset.columns))\n",
    "    print(dataset.shape)"
   ]
  },
  {
   "cell_type": "markdown",
   "metadata": {},
   "source": [
    "**Padronizando os nomes das colunas**\n",
    "\n",
    "Foram mantidos os mesmos nomes utilizados nos dataframes das matrículas."
   ]
  },
  {
   "cell_type": "code",
   "execution_count": 63,
   "metadata": {},
   "outputs": [],
   "source": [
    "efa_datasets[1].rename(columns={\n",
    "    'Código da Matrícula': 'Código da Matricula',\n",
    "    'Cor/Raça': 'Cor / Raça', \n",
    "    'Fator Esforco Curso': 'Fator Esforço Curso'\n",
    "}, inplace=True)\n",
    "\n",
    "efa_datasets[2].rename(columns={\n",
    "    'Fator Esforco Curso': 'Fator Esforço Curso',\n",
    "    'Região ': 'Região', 'UF ': 'UF', \n",
    "    'Sub Eixo Tecnologico': 'Subeixo Tecnológico',\n",
    "    'Tipo Oferta': 'Tipo de Oferta'\n",
    "    }, inplace=True)"
   ]
  },
  {
   "cell_type": "markdown",
   "metadata": {},
   "source": [
    "**Selecionando apenas os três primeiros dataframes**\n",
    "\n",
    "Como os dois últimos dataframes não possuem as colunas necessárias para o estudo, os dois conjuntos serão desprezados.\n",
    "\n",
    "Isto não impacta na eficiência ou eficácia do estudo, pois os dataframes principais são os das matrículas, já que eles possuem maior quantidade de dados. Os dataframes de eficiência acadêmica estão sendo utilizados somente para fins de complemento a dados nulos ou divergentes encontrados nos dataframes de matrículas."
   ]
  },
  {
   "cell_type": "code",
   "execution_count": 66,
   "metadata": {},
   "outputs": [],
   "source": [
    "efa_datasets = efa_datasets[:3]"
   ]
  },
  {
   "cell_type": "markdown",
   "metadata": {},
   "source": [
    "**Renomeando colunas dos dataframes**\n",
    "\n",
    "Agora tanto os dataframes das matrículas quanto os dataframes da eficiência acadêmica possuem a mesma quantidade de colunas, i.e, o mesmo subconjunto de dados relevantes para o estudo, e o nome das colunas foi padronizado para todos os dataframes.\n",
    "\n",
    "**TOTAL DE COLUNAS: 18**"
   ]
  },
  {
   "cell_type": "code",
   "execution_count": 67,
   "metadata": {},
   "outputs": [
    {
     "name": "stdout",
     "output_type": "stream",
     "text": [
      "['Situação de Matrícula', 'Código da Matricula', 'Instituição', 'Região', 'UF', 'Eixo Tecnológico', 'Subeixo Tecnológico', 'Nome de Curso', 'Tipo de Curso', 'Tipo de Oferta', 'Modalidade de Ensino', 'Turno', 'Carga Horaria', 'Fator Esforço Curso', 'Sexo', 'Cor / Raça', 'Faixa Etária', 'Renda Familiar']\n",
      "(889855, 18)\n",
      "['Situação de Matrícula', 'Código da Matricula', 'Instituição', 'Região', 'UF', 'Eixo Tecnológico', 'Subeixo Tecnológico', 'Nome de Curso', 'Tipo de Curso', 'Tipo de Oferta', 'Modalidade de Ensino', 'Turno', 'Carga Horaria', 'Fator Esforço Curso', 'Sexo', 'Cor / Raça', 'Faixa Etária', 'Renda Familiar']\n",
      "(383153, 18)\n",
      "['Situação de Matrícula', 'Código da Matricula', 'Instituição', 'Região', 'UF', 'Eixo Tecnológico', 'Subeixo Tecnológico', 'Nome de Curso', 'Tipo de Curso', 'Tipo de Oferta', 'Modalidade de Ensino', 'Turno', 'Carga Horaria', 'Fator Esforço Curso', 'Sexo', 'Cor / Raça', 'Faixa Etária', 'Renda Familiar']\n",
      "(338848, 18)\n"
     ]
    }
   ],
   "source": [
    "for dataset in efa_datasets:\n",
    "    dataset = dataset[[\n",
    "        'Situação de Matrícula',\n",
    "        'Código da Matricula', \n",
    "        'Instituição', \n",
    "        'Região', 'UF',\n",
    "        'Eixo Tecnológico',\n",
    "        'Subeixo Tecnológico',\n",
    "        'Nome de Curso', \n",
    "        'Tipo de Curso',\n",
    "        'Tipo de Oferta', \n",
    "        'Modalidade de Ensino',\n",
    "        'Turno',\n",
    "        'Carga Horaria',\n",
    "        'Fator Esforço Curso',\n",
    "        'Sexo',\n",
    "        'Cor / Raça',\n",
    "        'Faixa Etária',\n",
    "        'Renda Familiar'\n",
    "    ]]\n",
    "    print(list(dataset.columns))\n",
    "    print(dataset.shape)"
   ]
  },
  {
   "cell_type": "markdown",
   "metadata": {},
   "source": [
    "**Salvando datasets modificados**"
   ]
  },
  {
   "cell_type": "code",
   "execution_count": 84,
   "metadata": {},
   "outputs": [],
   "source": [
    "efa_datasets[0].to_csv(\"../datasets/modified/eficiencia/efa_2021.csv\", sep=\";\", encoding=\"utf-8\")"
   ]
  },
  {
   "cell_type": "code",
   "execution_count": 85,
   "metadata": {},
   "outputs": [],
   "source": [
    "efa_datasets[1].to_csv(\"../datasets/modified/eficiencia/efa_2020.csv\", sep=\";\", encoding=\"utf-8\")"
   ]
  },
  {
   "cell_type": "code",
   "execution_count": 86,
   "metadata": {},
   "outputs": [],
   "source": [
    "efa_datasets[2].to_csv(\"../datasets/modified/eficiencia/efa_2019.csv\", sep=\";\", encoding=\"utf-8\")"
   ]
  }
 ],
 "metadata": {
  "kernelspec": {
   "display_name": "base",
   "language": "python",
   "name": "python3"
  },
  "language_info": {
   "codemirror_mode": {
    "name": "ipython",
    "version": 3
   },
   "file_extension": ".py",
   "mimetype": "text/x-python",
   "name": "python",
   "nbconvert_exporter": "python",
   "pygments_lexer": "ipython3",
   "version": "3.11.7"
  }
 },
 "nbformat": 4,
 "nbformat_minor": 2
}
